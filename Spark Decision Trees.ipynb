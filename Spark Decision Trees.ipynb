{
 "cells": [
  {
   "cell_type": "code",
   "execution_count": 1,
   "metadata": {},
   "outputs": [],
   "source": [
    "import findspark\n",
    "findspark.init('C:/spark/spark-2.4.5-bin-hadoop2.7')\n",
    "\n",
    "from pyspark.sql import SparkSession\n",
    "import pyspark"
   ]
  },
  {
   "cell_type": "code",
   "execution_count": 33,
   "metadata": {},
   "outputs": [],
   "source": [
    "spark = SparkSession.builder.appName('trees').getOrCreate()"
   ]
  },
  {
   "cell_type": "code",
   "execution_count": 11,
   "metadata": {},
   "outputs": [],
   "source": [
    "from pyspark.ml.classification import (DecisionTreeClassifier,\n",
    "                                       RandomForestClassifier, \n",
    "                                       GBTClassifier)"
   ]
  },
  {
   "cell_type": "code",
   "execution_count": 12,
   "metadata": {},
   "outputs": [],
   "source": [
    "from pyspark.ml import Pipeline"
   ]
  },
  {
   "cell_type": "code",
   "execution_count": 13,
   "metadata": {},
   "outputs": [],
   "source": [
    "data = spark.read.format('libsvm').load('sample_libsvm_data.txt')"
   ]
  },
  {
   "cell_type": "code",
   "execution_count": 20,
   "metadata": {},
   "outputs": [
    {
     "name": "stdout",
     "output_type": "stream",
     "text": [
      "+-----+--------------------+\n",
      "|label|            features|\n",
      "+-----+--------------------+\n",
      "|  0.0|(692,[127,128,129...|\n",
      "|  1.0|(692,[158,159,160...|\n",
      "|  1.0|(692,[124,125,126...|\n",
      "|  1.0|(692,[152,153,154...|\n",
      "|  1.0|(692,[151,152,153...|\n",
      "|  0.0|(692,[129,130,131...|\n",
      "|  1.0|(692,[158,159,160...|\n",
      "|  1.0|(692,[99,100,101,...|\n",
      "|  0.0|(692,[154,155,156...|\n",
      "|  0.0|(692,[127,128,129...|\n",
      "|  1.0|(692,[154,155,156...|\n",
      "|  0.0|(692,[153,154,155...|\n",
      "|  0.0|(692,[151,152,153...|\n",
      "|  1.0|(692,[129,130,131...|\n",
      "|  0.0|(692,[154,155,156...|\n",
      "|  1.0|(692,[150,151,152...|\n",
      "|  0.0|(692,[124,125,126...|\n",
      "|  0.0|(692,[152,153,154...|\n",
      "|  1.0|(692,[97,98,99,12...|\n",
      "|  1.0|(692,[124,125,126...|\n",
      "+-----+--------------------+\n",
      "only showing top 20 rows\n",
      "\n"
     ]
    }
   ],
   "source": [
    "data.show()"
   ]
  },
  {
   "cell_type": "code",
   "execution_count": 15,
   "metadata": {},
   "outputs": [],
   "source": [
    "train_data, test_data = data.randomSplit([0.7, 0.3])"
   ]
  },
  {
   "cell_type": "code",
   "execution_count": 18,
   "metadata": {},
   "outputs": [],
   "source": [
    "dtc = DecisionTreeClassifier()\n",
    "rfc = RandomForestClassifier(numTrees=100)\n",
    "gbt = GBTClassifier()"
   ]
  },
  {
   "cell_type": "code",
   "execution_count": 19,
   "metadata": {},
   "outputs": [],
   "source": [
    "dtc_model = dtc.fit(train_data)\n",
    "rfc_model = rfc.fit(train_data)\n",
    "gbt_model = gbt.fit(train_data)"
   ]
  },
  {
   "cell_type": "code",
   "execution_count": 22,
   "metadata": {},
   "outputs": [],
   "source": [
    "dtc_preds = dtc_model.transform(test_data)\n",
    "rfc_preds = rfc_model.transform(test_data)\n",
    "gbt_preds = gbt_model.transform(test_data)"
   ]
  },
  {
   "cell_type": "code",
   "execution_count": 27,
   "metadata": {},
   "outputs": [],
   "source": [
    "# dtc_preds.show()\n",
    "# rfc_preds.show()\n",
    "# gbt_preds.show()"
   ]
  },
  {
   "cell_type": "code",
   "execution_count": null,
   "metadata": {},
   "outputs": [],
   "source": []
  },
  {
   "cell_type": "code",
   "execution_count": 28,
   "metadata": {},
   "outputs": [],
   "source": [
    "from pyspark.ml.evaluation import MulticlassClassificationEvaluator"
   ]
  },
  {
   "cell_type": "code",
   "execution_count": 29,
   "metadata": {},
   "outputs": [],
   "source": [
    "acc_eval = MulticlassClassificationEvaluator(metricName='accuracy')"
   ]
  },
  {
   "cell_type": "code",
   "execution_count": 31,
   "metadata": {},
   "outputs": [
    {
     "name": "stdout",
     "output_type": "stream",
     "text": [
      "DTC Accuracy:  0.9230769230769231\n",
      "RFC Accuracy:  0.9615384615384616\n",
      "GBT Accuracy:  0.9230769230769231\n"
     ]
    }
   ],
   "source": [
    "print('DTC Accuracy: ', acc_eval.evaluate(dtc_preds))\n",
    "print('RFC Accuracy: ', acc_eval.evaluate(rfc_preds))\n",
    "print('GBT Accuracy: ', acc_eval.evaluate(gbt_preds))"
   ]
  },
  {
   "cell_type": "code",
   "execution_count": 32,
   "metadata": {},
   "outputs": [
    {
     "data": {
      "text/plain": [
       "SparseVector(692, {101: 0.0006, 119: 0.0005, 124: 0.0003, 148: 0.0006, 155: 0.0005, 177: 0.0002, 183: 0.0014, 184: 0.0017, 203: 0.0015, 214: 0.0004, 215: 0.0066, 241: 0.0007, 243: 0.0094, 244: 0.0115, 245: 0.0021, 260: 0.0026, 262: 0.0274, 271: 0.018, 272: 0.0193, 287: 0.0014, 289: 0.0163, 290: 0.0079, 292: 0.0004, 301: 0.0084, 317: 0.0008, 322: 0.0089, 323: 0.0176, 324: 0.001, 326: 0.0005, 327: 0.005, 328: 0.0021, 330: 0.0058, 331: 0.0006, 345: 0.0129, 347: 0.001, 350: 0.038, 351: 0.0103, 352: 0.0047, 354: 0.0011, 355: 0.0006, 371: 0.0055, 374: 0.0018, 377: 0.0095, 378: 0.054, 379: 0.0158, 380: 0.0006, 382: 0.004, 384: 0.0032, 385: 0.0145, 399: 0.005, 400: 0.0071, 401: 0.0144, 405: 0.0643, 406: 0.0082, 407: 0.0345, 408: 0.0025, 409: 0.0005, 413: 0.003, 416: 0.0023, 426: 0.0094, 427: 0.022, 428: 0.0086, 430: 0.003, 433: 0.0209, 434: 0.049, 435: 0.0072, 437: 0.0006, 441: 0.0079, 442: 0.001, 443: 0.0053, 454: 0.0022, 455: 0.0266, 461: 0.0324, 462: 0.0184, 463: 0.0103, 464: 0.0005, 466: 0.0005, 467: 0.001, 469: 0.0005, 482: 0.0006, 483: 0.04, 484: 0.0158, 485: 0.0024, 488: 0.0005, 489: 0.0104, 490: 0.0253, 491: 0.0005, 495: 0.0026, 496: 0.0084, 510: 0.0075, 511: 0.0295, 512: 0.0319, 516: 0.0011, 517: 0.0195, 518: 0.012, 519: 0.001, 523: 0.0052, 537: 0.0002, 538: 0.0005, 539: 0.0087, 540: 0.0197, 541: 0.0011, 542: 0.0013, 544: 0.0005, 545: 0.0005, 549: 0.0017, 569: 0.0047, 571: 0.0003, 578: 0.0081, 595: 0.001, 599: 0.0019, 603: 0.0001, 627: 0.0006, 630: 0.0001, 631: 0.0, 636: 0.0043, 637: 0.0004, 659: 0.0005, 679: 0.0011})"
      ]
     },
     "execution_count": 32,
     "metadata": {},
     "output_type": "execute_result"
    }
   ],
   "source": [
    "rfc_model.featureImportances"
   ]
  },
  {
   "cell_type": "code",
   "execution_count": null,
   "metadata": {},
   "outputs": [],
   "source": []
  }
 ],
 "metadata": {
  "kernelspec": {
   "display_name": "Python 3",
   "language": "python",
   "name": "python3"
  },
  "language_info": {
   "codemirror_mode": {
    "name": "ipython",
    "version": 3
   },
   "file_extension": ".py",
   "mimetype": "text/x-python",
   "name": "python",
   "nbconvert_exporter": "python",
   "pygments_lexer": "ipython3",
   "version": "3.7.4"
  }
 },
 "nbformat": 4,
 "nbformat_minor": 2
}
