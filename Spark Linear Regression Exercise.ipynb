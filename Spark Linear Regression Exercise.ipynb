{
 "cells": [
  {
   "cell_type": "code",
   "execution_count": 9,
   "metadata": {},
   "outputs": [],
   "source": [
    "import findspark\n",
    "findspark.init('C:/spark/spark-2.4.5-bin-hadoop2.7')\n",
    "from pyspark.sql import SparkSession"
   ]
  },
  {
   "cell_type": "code",
   "execution_count": 10,
   "metadata": {},
   "outputs": [],
   "source": [
    "import pyspark"
   ]
  },
  {
   "cell_type": "code",
   "execution_count": 11,
   "metadata": {},
   "outputs": [],
   "source": [
    "from pyspark.sql import SparkSession"
   ]
  },
  {
   "cell_type": "code",
   "execution_count": 12,
   "metadata": {},
   "outputs": [],
   "source": [
    "spark = SparkSession.builder.appName('lr_example').getOrCreate()"
   ]
  },
  {
   "cell_type": "code",
   "execution_count": 13,
   "metadata": {},
   "outputs": [],
   "source": [
    "df = spark.read.csv(\"Ecommerce Customers.csv\", inferSchema=True, header=True)"
   ]
  },
  {
   "cell_type": "code",
   "execution_count": 14,
   "metadata": {},
   "outputs": [
    {
     "name": "stdout",
     "output_type": "stream",
     "text": [
      "root\n",
      " |-- Email: string (nullable = true)\n",
      " |-- Address: string (nullable = true)\n",
      " |-- Avatar: string (nullable = true)\n",
      " |-- Avg. Session Length: double (nullable = true)\n",
      " |-- Time on App: double (nullable = true)\n",
      " |-- Time on Website: double (nullable = true)\n",
      " |-- Length of Membership: double (nullable = true)\n",
      " |-- Yearly Amount Spent: double (nullable = true)\n",
      "\n"
     ]
    }
   ],
   "source": [
    "df.printSchema()"
   ]
  },
  {
   "cell_type": "code",
   "execution_count": 15,
   "metadata": {},
   "outputs": [
    {
     "name": "stdout",
     "output_type": "stream",
     "text": [
      "Diazchester\n",
      " CA 06566-8576\"\n",
      "DarkGreen\n",
      "31.926272026360156\n",
      "11.109460728682564\n",
      "37.268958868297744\n",
      "2.66403418213262\n",
      "392.2049334443264\n"
     ]
    }
   ],
   "source": [
    "for item in df.head(5)[3]:\n",
    "    print(item)"
   ]
  },
  {
   "cell_type": "code",
   "execution_count": 16,
   "metadata": {},
   "outputs": [],
   "source": [
    "from pyspark.ml.linalg import Vectors\n",
    "from pyspark.ml.feature import VectorAssembler"
   ]
  },
  {
   "cell_type": "code",
   "execution_count": 17,
   "metadata": {},
   "outputs": [
    {
     "data": {
      "text/plain": [
       "['Email',\n",
       " 'Address',\n",
       " 'Avatar',\n",
       " 'Avg. Session Length',\n",
       " 'Time on App',\n",
       " 'Time on Website',\n",
       " 'Length of Membership',\n",
       " 'Yearly Amount Spent']"
      ]
     },
     "execution_count": 17,
     "metadata": {},
     "output_type": "execute_result"
    }
   ],
   "source": [
    "df.columns"
   ]
  },
  {
   "cell_type": "code",
   "execution_count": 22,
   "metadata": {},
   "outputs": [],
   "source": [
    "from pyspark.sql.functions import isnan, isnull, mean\n",
    "\n",
    "amount_mean = df.select(mean('Yearly Amount Spent')).collect()[0][0]\n",
    "df = df.fillna(amount_mean, subset=['Yearly Amount Spent'])"
   ]
  },
  {
   "cell_type": "code",
   "execution_count": 30,
   "metadata": {},
   "outputs": [
    {
     "name": "stdout",
     "output_type": "stream",
     "text": [
      "+-------------------+\n",
      "|Yearly Amount Spent|\n",
      "+-------------------+\n",
      "+-------------------+\n",
      "\n"
     ]
    }
   ],
   "source": [
    "null_col = df.select(isnull('Yearly Amount Spent').alias('Yearly Amount Spent'))\n",
    "null_col.filter(null_col['Yearly Amount Spent'] == True).show()"
   ]
  },
  {
   "cell_type": "code",
   "execution_count": 31,
   "metadata": {},
   "outputs": [],
   "source": [
    "input_features = ['Time on App', 'Time on Website', 'Length of Membership']\n",
    "assembler = VectorAssembler(inputCols=input_features, outputCol='features')"
   ]
  },
  {
   "cell_type": "code",
   "execution_count": 32,
   "metadata": {},
   "outputs": [],
   "source": [
    "output = assembler.setHandleInvalid('skip').transform(df)"
   ]
  },
  {
   "cell_type": "code",
   "execution_count": 33,
   "metadata": {},
   "outputs": [
    {
     "name": "stdout",
     "output_type": "stream",
     "text": [
      "root\n",
      " |-- Email: string (nullable = true)\n",
      " |-- Address: string (nullable = true)\n",
      " |-- Avatar: string (nullable = true)\n",
      " |-- Avg. Session Length: double (nullable = true)\n",
      " |-- Time on App: double (nullable = true)\n",
      " |-- Time on Website: double (nullable = true)\n",
      " |-- Length of Membership: double (nullable = true)\n",
      " |-- Yearly Amount Spent: double (nullable = false)\n",
      " |-- features: vector (nullable = true)\n",
      "\n"
     ]
    }
   ],
   "source": [
    "output.printSchema()"
   ]
  },
  {
   "cell_type": "code",
   "execution_count": 34,
   "metadata": {},
   "outputs": [
    {
     "data": {
      "text/plain": [
       "[Row(Email='Wrightmouth', Address=' MI 82180-9605\"', Avatar='Violet', Avg. Session Length=34.49726772511229, Time on App=12.655651149166752, Time on Website=39.57766801952616, Length of Membership=4.082620632952961, Yearly Amount Spent=587.9510539684005, features=DenseVector([12.6557, 39.5777, 4.0826]))]"
      ]
     },
     "execution_count": 34,
     "metadata": {},
     "output_type": "execute_result"
    }
   ],
   "source": [
    "output.head(1)"
   ]
  },
  {
   "cell_type": "code",
   "execution_count": 35,
   "metadata": {},
   "outputs": [],
   "source": [
    "final_data = output.select('features', 'Yearly Amount Spent')"
   ]
  },
  {
   "cell_type": "code",
   "execution_count": 36,
   "metadata": {},
   "outputs": [
    {
     "name": "stdout",
     "output_type": "stream",
     "text": [
      "+--------------------+-------------------+\n",
      "|            features|Yearly Amount Spent|\n",
      "+--------------------+-------------------+\n",
      "|[12.6556511491667...|  587.9510539684005|\n",
      "|[11.1094607286825...|  392.2049334443264|\n",
      "|[11.3302780577775...| 487.54750486747207|\n",
      "|[13.7175136651425...|  581.8523440352178|\n",
      "|[12.7951885510781...|  599.4060920457634|\n",
      "|[12.0269253397550...|   637.102447915074|\n",
      "|[11.3663483097105...|  521.5721747578274|\n",
      "|[37.3733588585475...| 499.91985771641924|\n",
      "|[13.3862352756764...|  570.2004089636195|\n",
      "|[37.1451682235281...| 499.91985771641924|\n",
      "|[13.3389754476621...|  492.6060127179966|\n",
      "|[37.0879260709838...| 499.91985771641924|\n",
      "|[10.9612984001540...| 408.64035107262754|\n",
      "|[12.9592260916093...|  573.4158673313865|\n",
      "|[13.1487256920565...| 470.45273330095546|\n",
      "|[12.6366060520001...|  461.7807421962299|\n",
      "|[11.7338616908573...| 457.84769594494855|\n",
      "|[12.0131946940144...|  407.7045475495441|\n",
      "|[14.7153875441565...| 452.31567548003545|\n",
      "|[13.9895925558252...|   605.061038804892|\n",
      "+--------------------+-------------------+\n",
      "only showing top 20 rows\n",
      "\n"
     ]
    }
   ],
   "source": [
    "final_data.show()"
   ]
  },
  {
   "cell_type": "code",
   "execution_count": 37,
   "metadata": {},
   "outputs": [],
   "source": [
    "train_data, test_data = final_data.randomSplit([0.7, 0.3])"
   ]
  },
  {
   "cell_type": "code",
   "execution_count": 38,
   "metadata": {},
   "outputs": [
    {
     "name": "stdout",
     "output_type": "stream",
     "text": [
      "+-------+-------------------+\n",
      "|summary|Yearly Amount Spent|\n",
      "+-------+-------------------+\n",
      "|  count|                355|\n",
      "|   mean|  502.3222112969249|\n",
      "| stddev|  76.53461675559163|\n",
      "|    min|  275.9184206503857|\n",
      "|    max|  725.5848140556805|\n",
      "+-------+-------------------+\n",
      "\n"
     ]
    }
   ],
   "source": [
    "train_data.describe().show()"
   ]
  },
  {
   "cell_type": "code",
   "execution_count": 39,
   "metadata": {},
   "outputs": [
    {
     "name": "stdout",
     "output_type": "stream",
     "text": [
      "+-------+-------------------+\n",
      "|summary|Yearly Amount Spent|\n",
      "+-------+-------------------+\n",
      "|  count|                145|\n",
      "|   mean|  494.0382334331119|\n",
      "| stddev|   69.6462535891278|\n",
      "|    min|   266.086340948469|\n",
      "|    max|  765.5184619388372|\n",
      "+-------+-------------------+\n",
      "\n"
     ]
    }
   ],
   "source": [
    "test_data.describe().show()"
   ]
  },
  {
   "cell_type": "code",
   "execution_count": 40,
   "metadata": {},
   "outputs": [],
   "source": [
    "from pyspark.ml.regression import LinearRegression"
   ]
  },
  {
   "cell_type": "code",
   "execution_count": 41,
   "metadata": {},
   "outputs": [],
   "source": [
    "lr = LinearRegression(labelCol='Yearly Amount Spent')"
   ]
  },
  {
   "cell_type": "code",
   "execution_count": 42,
   "metadata": {},
   "outputs": [],
   "source": [
    "lr_model = lr.fit(train_data)"
   ]
  },
  {
   "cell_type": "code",
   "execution_count": 43,
   "metadata": {},
   "outputs": [],
   "source": [
    "test_results = lr_model.evaluate(test_data)"
   ]
  },
  {
   "cell_type": "code",
   "execution_count": 55,
   "metadata": {},
   "outputs": [
    {
     "name": "stdout",
     "output_type": "stream",
     "text": [
      "RMSE:  63.436634104303025\n",
      "r2 error:  0.16460811209707826\n"
     ]
    }
   ],
   "source": [
    "print(\"RMSE: \", test_results.rootMeanSquaredError)\n",
    "print(\"r2 error: \", test_results.r2)"
   ]
  },
  {
   "cell_type": "code",
   "execution_count": 56,
   "metadata": {},
   "outputs": [],
   "source": [
    "unlabeled_data = test_data.select('features')"
   ]
  },
  {
   "cell_type": "code",
   "execution_count": 57,
   "metadata": {},
   "outputs": [
    {
     "name": "stdout",
     "output_type": "stream",
     "text": [
      "+--------------------+\n",
      "|            features|\n",
      "+--------------------+\n",
      "|[9.84612490873623...|\n",
      "|[9.98451439654646...|\n",
      "|[10.0125833662230...|\n",
      "|[10.1631790600525...|\n",
      "|[10.3147179218938...|\n",
      "|[10.3201162550591...|\n",
      "|[10.3984577130856...|\n",
      "|[10.5373075378408...|\n",
      "|[10.6077238708590...|\n",
      "|[10.6279492261562...|\n",
      "|[10.6517937834741...|\n",
      "|[10.6746534726919...|\n",
      "|[10.7191497406283...|\n",
      "|[10.7485336554157...|\n",
      "|[10.8616041991289...|\n",
      "|[10.8691638141303...|\n",
      "|[10.9025562270197...|\n",
      "|[10.9523533804586...|\n",
      "|[10.9567909677916...|\n",
      "|[10.9612984001540...|\n",
      "+--------------------+\n",
      "only showing top 20 rows\n",
      "\n"
     ]
    }
   ],
   "source": [
    "unlabeled_data.show()"
   ]
  },
  {
   "cell_type": "code",
   "execution_count": 60,
   "metadata": {},
   "outputs": [],
   "source": [
    "test_predictions = lr_model.transform(unlabeled_data).select('prediction')"
   ]
  },
  {
   "cell_type": "code",
   "execution_count": 61,
   "metadata": {},
   "outputs": [
    {
     "name": "stdout",
     "output_type": "stream",
     "text": [
      "+------------------+\n",
      "|        prediction|\n",
      "+------------------+\n",
      "|441.28007514452554|\n",
      "| 430.6104466305561|\n",
      "|468.13260447073594|\n",
      "|462.64420208150113|\n",
      "| 450.9483863077504|\n",
      "|462.76418936557934|\n",
      "| 452.6838795870792|\n",
      "| 441.8738783660932|\n",
      "|460.29860059804423|\n",
      "|479.37579797992385|\n",
      "| 466.4223387830973|\n",
      "| 479.9702505622487|\n",
      "|476.78853211461455|\n",
      "| 447.2293194989802|\n",
      "| 463.1713153742362|\n",
      "|448.97198664767643|\n",
      "|456.61137341104904|\n",
      "|481.56513918798953|\n",
      "| 476.2356074108079|\n",
      "| 478.3737111145649|\n",
      "+------------------+\n",
      "only showing top 20 rows\n",
      "\n"
     ]
    }
   ],
   "source": [
    "test_predictions.show()"
   ]
  },
  {
   "cell_type": "code",
   "execution_count": null,
   "metadata": {},
   "outputs": [],
   "source": []
  }
 ],
 "metadata": {
  "kernelspec": {
   "display_name": "Python 3",
   "language": "python",
   "name": "python3"
  },
  "language_info": {
   "codemirror_mode": {
    "name": "ipython",
    "version": 3
   },
   "file_extension": ".py",
   "mimetype": "text/x-python",
   "name": "python",
   "nbconvert_exporter": "python",
   "pygments_lexer": "ipython3",
   "version": "3.7.4"
  }
 },
 "nbformat": 4,
 "nbformat_minor": 2
}
